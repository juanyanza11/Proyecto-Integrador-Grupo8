{
 "cells": [
  {
   "cell_type": "code",
   "execution_count": 1,
   "metadata": {},
   "outputs": [],
   "source": [
    "import pandas as pd"
   ]
  },
  {
   "cell_type": "code",
   "execution_count": 2,
   "metadata": {},
   "outputs": [],
   "source": [
    "data = pd.read_csv(\"ods_1_2_DEF.csv\")"
   ]
  },
  {
   "cell_type": "code",
   "execution_count": 5,
   "metadata": {},
   "outputs": [
    {
     "data": {
      "text/plain": [
       "Index(['id_str', 'from_user', 'created_at', 'time', 'geo_coordinates',\n",
       "       'user_lang', 'in_reply_to_user_id_str', 'in_reply_to_screen_name',\n",
       "       'from_user_id_str', 'in_reply_to_status_id_str', 'profile_image_url',\n",
       "       'user_followers_count', 'user_friends_count', 'user_location',\n",
       "       'status_url', 'entities_str', 'textoNew', 'SourceNew'],\n",
       "      dtype='object')"
      ]
     },
     "execution_count": 5,
     "metadata": {},
     "output_type": "execute_result"
    }
   ],
   "source": [
    "data.keys()"
   ]
  },
  {
   "cell_type": "code",
   "execution_count": 6,
   "metadata": {},
   "outputs": [],
   "source": [
    "gru = data.groupby([\"from_user_id_str\"])['from_user']"
   ]
  },
  {
   "cell_type": "code",
   "execution_count": 7,
   "metadata": {},
   "outputs": [
    {
     "name": "stdout",
     "output_type": "stream",
     "text": [
      "['bbva', 'bbva', 'bbva', 'bbva', 'bbva', 'bbva', 'BBVAworld', 'BBVAworld', 'BBVAworld'] 16808626\n",
      "['guillibrand', 'marbrandd'] 65929720\n",
      "['BBVAWorld', 'BBVAWorld', 'bbva', 'bbva'] 230125016\n",
      "['CarolAlvarezMB', 'CarolAlvarezMB', 'CarolAlvarezMB', 'CarolAlvarezMB', 'CarolAlvarezMB', 'CarolAlvarezmb', 'CarolAlvarezmb', 'CarolAlvarezmb', 'CarolAlvarezmb', 'CarolAlvarezmb', 'CarolAlvarezmb', 'CarolAlvarezmb', 'CarolAlvarezmb', 'CarolAlvarezmb', 'CarolAlvarezmb'] 271387915\n",
      "['SilviaCFerreyra', 'SilviaCFerreyra', 'SilviaF05973954'] 1138828392025993216\n"
     ]
    }
   ],
   "source": [
    "for nombre, datos in gru:\n",
    "    if(len(list(datos))>1):\n",
    "        # print(nombre)\n",
    "        if(len(list(set(list(datos))))>1):\n",
    "            print(list(datos), nombre)"
   ]
  },
  {
   "cell_type": "code",
   "execution_count": null,
   "metadata": {},
   "outputs": [],
   "source": []
  }
 ],
 "metadata": {
  "kernelspec": {
   "display_name": "Python 3",
   "language": "python",
   "name": "python3"
  },
  "language_info": {
   "codemirror_mode": {
    "name": "ipython",
    "version": 3
   },
   "file_extension": ".py",
   "mimetype": "text/x-python",
   "name": "python",
   "nbconvert_exporter": "python",
   "pygments_lexer": "ipython3",
   "version": "3.6.8"
  }
 },
 "nbformat": 4,
 "nbformat_minor": 2
}
